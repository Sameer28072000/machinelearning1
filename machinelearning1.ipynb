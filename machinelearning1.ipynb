{
 "cells": [
  {
   "cell_type": "markdown",
   "id": "3dc4d063-f145-49fe-afea-95fa61fa2856",
   "metadata": {},
   "source": [
    "Q1.Explain the following with an example\n",
    "i.AI\n",
    "ii.Machine Learning\n",
    "iii.Deep Learning"
   ]
  },
  {
   "cell_type": "code",
   "execution_count": null,
   "id": "64c5b283-7d38-4b9f-914c-a57f9117e950",
   "metadata": {},
   "outputs": [],
   "source": [
    "Ans:-\n",
    "i.It is the smart application that can perform its own an human intervention.\n",
    "ii.It provide statstool to analyze,visualize,predictive model & forcasting.ML is a part of AI\n",
    "iii.To m,imic the human Being.DL is the subset of ML"
   ]
  },
  {
   "cell_type": "markdown",
   "id": "475d1f44-fe83-42bb-bf82-0c286da58725",
   "metadata": {},
   "source": [
    "Q2- What is supervised learning? List some examples of supervised learning."
   ]
  },
  {
   "cell_type": "code",
   "execution_count": null,
   "id": "51dcfba3-1b6b-4288-acff-f950c101aed1",
   "metadata": {},
   "outputs": [],
   "source": [
    "Ans:-\n",
    "The Algorithm learns from label training data.\n",
    "There are two types of supervised learning\n",
    "i.Regression.\n",
    "ii.Classification."
   ]
  },
  {
   "cell_type": "markdown",
   "id": "74ddf4cf-470e-43fc-97c1-c3b267be5409",
   "metadata": {},
   "source": [
    "Q3- What is unsupervised learning? List some examples of unsupervised learning."
   ]
  },
  {
   "cell_type": "code",
   "execution_count": null,
   "id": "b77f8dd7-7a66-47cf-88c3-31718e3b27bb",
   "metadata": {},
   "outputs": [],
   "source": [
    "Ans:-\n",
    "Unsupervised Learning learn unlabelled data.\n",
    "i.Clustering.\n",
    "ii.PCA(Principal Component Analysis)."
   ]
  },
  {
   "cell_type": "markdown",
   "id": "17d3e5ea-8dee-418f-9185-6c517fdeca58",
   "metadata": {},
   "source": [
    "Q4- What is the difference between AI, ML, DL, and DS?"
   ]
  },
  {
   "cell_type": "code",
   "execution_count": null,
   "id": "c468d846-2c98-45ed-9777-2a9aeaa00b4b",
   "metadata": {},
   "outputs": [],
   "source": [
    "Ans:-\n",
    "i.It is the smart application that can perform its own an human intervention.\n",
    "ii.It provide statstool to analyze,visualize,predictive model & forcasting. ML is a subcategory of AI.\n",
    "iii.To m,imic the human Being. DL is the subcategory of ML."
   ]
  },
  {
   "cell_type": "markdown",
   "id": "d197450d-eabe-4ec1-a406-d9222fa7cf1b",
   "metadata": {},
   "source": [
    "Q5- What are the main differences between supervised, unsupervised, and semi-supervised learning?"
   ]
  },
  {
   "cell_type": "code",
   "execution_count": null,
   "id": "9aba98e2-af0d-427c-b0b1-8cb6b45f5a63",
   "metadata": {},
   "outputs": [],
   "source": [
    "Ans:-\n",
    "i.Supervised Learning learns from label training data.\n",
    "ii.Unsupervised Learning learns from  unlabelled data.\n",
    "iii.Semi-Supervise Learning is the combination of both Supervised & Unsupervised Learning."
   ]
  },
  {
   "cell_type": "markdown",
   "id": "ed6b5b99-1943-4bc9-84ab-561880e7d850",
   "metadata": {},
   "source": [
    "Q6- What is train, test and validation split? Explain the importance of each term."
   ]
  },
  {
   "cell_type": "code",
   "execution_count": null,
   "id": "824ef605-3785-4220-812b-7f3020ac57e3",
   "metadata": {},
   "outputs": [],
   "source": [
    "Ans:-\n",
    "i.Train ---> we will train our model.\n",
    "ii.Validation-----> Hyper Tuning of the model.\n",
    "iii.Test ---->Model will be test\n",
    " \n",
    "importance\n",
    "\n",
    " train, test and validation split to Prevent Overfitting."
   ]
  },
  {
   "cell_type": "markdown",
   "id": "0a8bb0b9-970e-42f8-beb8-472dc8ae36b1",
   "metadata": {},
   "source": [
    "Q7- How can unsupervised learning be used in anomaly detection?"
   ]
  },
  {
   "cell_type": "code",
   "execution_count": null,
   "id": "14c09a17-5777-45be-8295-a5251fd65023",
   "metadata": {},
   "outputs": [],
   "source": [
    "Ans:-it can help to identifing patterns and deviations from normal behavior without relying on labeled data.\n",
    "i.Cluster\n",
    "ii.PCA(Principal Component Analysis)"
   ]
  },
  {
   "cell_type": "markdown",
   "id": "db9c330c-6695-498b-98c0-c2c69aa30cb5",
   "metadata": {},
   "source": [
    "Q8- List down some commonly used supervised learning algrithms and unsupervised learning\n",
    "algorithms."
   ]
  },
  {
   "cell_type": "code",
   "execution_count": null,
   "id": "90d1b073-fc90-462b-b8c3-38aee2276cfc",
   "metadata": {},
   "outputs": [],
   "source": [
    "Ans:-\n",
    "i.Supervised Learning:-\n",
    "| Linear Regression | Logistic Regression | Decision Tree | \n",
    "Random Forest | KNearest Neighbors(KNN) | Support Vector Machine(SVM) | Naive Bayes | \n",
    "XGBOOST |\n",
    "\n",
    "ii.Unsupervised Learning:-\n",
    "| K-means clustering | Hierarchical Clustering | DB Scan | PCA |"
   ]
  }
 ],
 "metadata": {
  "kernelspec": {
   "display_name": "Python 3 (ipykernel)",
   "language": "python",
   "name": "python3"
  },
  "language_info": {
   "codemirror_mode": {
    "name": "ipython",
    "version": 3
   },
   "file_extension": ".py",
   "mimetype": "text/x-python",
   "name": "python",
   "nbconvert_exporter": "python",
   "pygments_lexer": "ipython3",
   "version": "3.10.8"
  }
 },
 "nbformat": 4,
 "nbformat_minor": 5
}
